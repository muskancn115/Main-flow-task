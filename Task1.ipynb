{
 "cells": [
  {
   "cell_type": "markdown",
   "metadata": {},
   "source": [
    "Task 1"
   ]
  },
  {
   "cell_type": "code",
   "execution_count": 29,
   "metadata": {},
   "outputs": [
    {
     "name": "stdout",
     "output_type": "stream",
     "text": [
      "updated list [1, 2, 3, 4, 5, 6]\n"
     ]
    }
   ],
   "source": [
    "#Creating List\n",
    "mylist = [1,2,3,4,5]\n",
    "\n",
    "#Adding element to list\n",
    "mylist.append(6)\n",
    "print(\"updated list\",mylist)"
   ]
  },
  {
   "cell_type": "code",
   "execution_count": 30,
   "metadata": {},
   "outputs": [
    {
     "name": "stdout",
     "output_type": "stream",
     "text": [
      "updated list [1, 3, 4, 5, 6]\n"
     ]
    }
   ],
   "source": [
    "#Removing element from list\n",
    "mylist.remove(2)\n",
    "print(\"updated list\",mylist)"
   ]
  },
  {
   "cell_type": "code",
   "execution_count": 31,
   "metadata": {},
   "outputs": [
    {
     "name": "stdout",
     "output_type": "stream",
     "text": [
      "updated list [10, 3, 4, 5, 6]\n"
     ]
    }
   ],
   "source": [
    "#Modifying an element from list\n",
    "mylist[0]=10\n",
    "print(\"updated list\",mylist)"
   ]
  },
  {
   "cell_type": "code",
   "execution_count": 32,
   "metadata": {},
   "outputs": [
    {
     "name": "stdout",
     "output_type": "stream",
     "text": [
      "updated dictinary {'name': 'Alice', 'age': 20, 'city': 'Delhi', 'gpa': 6.8}\n"
     ]
    }
   ],
   "source": [
    "#Creating Dictionary\n",
    "mydict = {\"name\":\"Alice\",\"age\":20,\"city\":\"Delhi\"}\n",
    "\n",
    "#Adding element to Dictionary\n",
    "mydict[\"gpa\"] = 6.8\n",
    "print(\"updated dictinary\",mydict)"
   ]
  },
  {
   "cell_type": "code",
   "execution_count": 33,
   "metadata": {},
   "outputs": [
    {
     "name": "stdout",
     "output_type": "stream",
     "text": [
      "updated dictionary {'name': 'Alice', 'age': 20, 'gpa': 6.8}\n"
     ]
    }
   ],
   "source": [
    "#Removing an element from Dictionary\n",
    "del mydict[\"city\"]\n",
    "print(\"updated dictionary\",mydict)"
   ]
  },
  {
   "cell_type": "code",
   "execution_count": 34,
   "metadata": {},
   "outputs": [
    {
     "name": "stdout",
     "output_type": "stream",
     "text": [
      "updated dictionary {'name': 'Alice', 'age': 21, 'gpa': 6.8}\n"
     ]
    }
   ],
   "source": [
    "#Modifying an element\n",
    "mydict[\"age\"] = 21\n",
    "print(\"updated dictionary\",mydict)"
   ]
  },
  {
   "cell_type": "code",
   "execution_count": 35,
   "metadata": {},
   "outputs": [
    {
     "name": "stdout",
     "output_type": "stream",
     "text": [
      "updated set {1, 2, 3, 4, 5, 6}\n"
     ]
    }
   ],
   "source": [
    "#Creating set\n",
    "myset ={1,2,3,4,5}\n",
    "\n",
    "#Adding element to set\n",
    "myset.add(6)\n",
    "print(\"updated set\",myset)\n"
   ]
  },
  {
   "cell_type": "code",
   "execution_count": 36,
   "metadata": {},
   "outputs": [
    {
     "name": "stdout",
     "output_type": "stream",
     "text": [
      "updated set {1, 2, 3, 4, 6}\n"
     ]
    }
   ],
   "source": [
    "#Removing an element from set\n",
    "myset.remove(5)\n",
    "print(\"updated set\",myset)"
   ]
  }
 ],
 "metadata": {
  "kernelspec": {
   "display_name": "Python 3",
   "language": "python",
   "name": "python3"
  },
  "language_info": {
   "codemirror_mode": {
    "name": "ipython",
    "version": 3
   },
   "file_extension": ".py",
   "mimetype": "text/x-python",
   "name": "python",
   "nbconvert_exporter": "python",
   "pygments_lexer": "ipython3",
   "version": "3.12.4"
  }
 },
 "nbformat": 4,
 "nbformat_minor": 2
}
